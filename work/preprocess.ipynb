{
 "cells": [
  {
   "cell_type": "code",
   "execution_count": null,
   "metadata": {},
   "outputs": [],
   "source": [
    "import glob\n",
    "\n",
    "import dask\n",
    "import dask.array as da\n",
    "import imageio\n",
    "import numpy as np\n",
    "\n",
    "from aicsimageio.writers import OmeZarrWriter\n",
    "from aicsimageio.types import PhysicalPixelSizes\n",
    "from skimage import transform"
   ]
  },
  {
   "cell_type": "code",
   "execution_count": null,
   "metadata": {},
   "outputs": [],
   "source": [
    "filenames = sorted(glob.glob(\"data/E100/E100_data_tiffstack/*.tif\"))\n",
    "sample = imageio.imread(filenames[0])"
   ]
  },
  {
   "cell_type": "code",
   "execution_count": null,
   "metadata": {},
   "outputs": [],
   "source": [
    "lazy_arrays = [dask.delayed(imageio.imread)(fn) for fn in filenames]\n",
    "lazy_arrays = [da.from_delayed(x, shape=sample.shape, dtype=sample.dtype)\n",
    "               for x in lazy_arrays]\n",
    "data = da.stack(lazy_arrays)\n",
    "data = data.rechunk(chunks=(49,421,421))\n",
    "\n",
    "def resample(arr):\n",
    "    return transform.resize(arr, (100, 200, 200), preserve_range=True, anti_aliasing=True).astype(arr.dtype)\n",
    "\n",
    "data = data.map_blocks(resample, chunks=(100, 200, 200))"
   ]
  },
  {
   "cell_type": "code",
   "execution_count": null,
   "metadata": {
    "scrolled": true
   },
   "outputs": [],
   "source": [
    "%%time\n",
    "\n",
    "with dask.config.set(scheduler='single-threaded'):\n",
    "    # Write out in chunks for data analysis\n",
    "    data.to_zarr(\"data/E100/E100_data\", overwrite=True)\n",
    "    \n",
    "    # Write out in viewer-ready multiscale image pyramid\n",
    "    writer = OmeZarrWriter(\"data/E100/E100_view\")\n",
    "    writer.write_image(\n",
    "        data[:256,:1024,:1024], \n",
    "        \"data\",\n",
    "        physical_pixel_sizes=PhysicalPixelSizes(0.25,0.10,0.10), \n",
    "        channel_names=None, \n",
    "        channel_colors=None,\n",
    "        scale_num_levels=4, \n",
    "        scale_factor=2,\n",
    "        dimension_order='ZYX',\n",
    "    )    \n",
    "    \n",
    "    "
   ]
  },
  {
   "cell_type": "code",
   "execution_count": null,
   "metadata": {},
   "outputs": [],
   "source": []
  }
 ],
 "metadata": {
  "kernelspec": {
   "display_name": "Python 3",
   "language": "python",
   "name": "python3"
  },
  "language_info": {
   "codemirror_mode": {
    "name": "ipython",
    "version": 3
   },
   "file_extension": ".py",
   "mimetype": "text/x-python",
   "name": "python",
   "nbconvert_exporter": "python",
   "pygments_lexer": "ipython3",
   "version": "3.8.10"
  }
 },
 "nbformat": 4,
 "nbformat_minor": 2
}
