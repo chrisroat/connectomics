{
 "cells": [
  {
   "cell_type": "code",
   "execution_count": 1,
   "metadata": {},
   "outputs": [
    {
     "name": "stdout",
     "output_type": "stream",
     "text": [
      "WARNING:tensorflow:From /usr/local/lib/python3.8/dist-packages/tensorflow/python/compat/v2_compat.py:107: disable_resource_variables (from tensorflow.python.ops.variable_scope) is deprecated and will be removed in a future version.\n",
      "Instructions for updating:\n",
      "non-resource variables are not supported in the long term\n"
     ]
    }
   ],
   "source": [
    "import functools\n",
    "import numpy as np\n",
    "import tensorflow as tf\n",
    "tf.compat.v1.disable_v2_behavior()"
   ]
  },
  {
   "cell_type": "code",
   "execution_count": 2,
   "metadata": {},
   "outputs": [],
   "source": [
    "model_prefix = \"model/model.ckpt-76152679\"\n",
    "depth = 8\n",
    "features = 32\n",
    "num_classes = 4"
   ]
  },
  {
   "cell_type": "code",
   "execution_count": 3,
   "metadata": {},
   "outputs": [],
   "source": [
    "conv3d = tf.compat.v1.layers.conv3d\n",
    "relu = tf.compat.v1.nn.relu\n",
    "\n",
    "conv = functools.partial(conv3d,\n",
    "                         filters=features,\n",
    "                         kernel_size=(3, 3, 3),\n",
    "                         padding='VALID')"
   ]
  },
  {
   "cell_type": "code",
   "execution_count": 4,
   "metadata": {},
   "outputs": [
    {
     "name": "stderr",
     "output_type": "stream",
     "text": [
      "<ipython-input-4-9198082d3d95>:4: UserWarning: `tf.layers.conv3d` is deprecated and will be removed in a future version. Please Use `tf.keras.layers.Conv3D` instead.\n",
      "  net = conv(patches, name='conv0_a', activation=relu)\n",
      "<ipython-input-4-9198082d3d95>:5: UserWarning: `tf.layers.conv3d` is deprecated and will be removed in a future version. Please Use `tf.keras.layers.Conv3D` instead.\n",
      "  net = conv(net, name='conv0_b', activation=None)\n",
      "<ipython-input-4-9198082d3d95>:11: UserWarning: `tf.layers.conv3d` is deprecated and will be removed in a future version. Please Use `tf.keras.layers.Conv3D` instead.\n",
      "  net = conv(net, name='conv%d_a' % i, activation=relu,)\n",
      "<ipython-input-4-9198082d3d95>:12: UserWarning: `tf.layers.conv3d` is deprecated and will be removed in a future version. Please Use `tf.keras.layers.Conv3D` instead.\n",
      "  net = conv(net, name='conv%d_b' % i, activation=None)\n",
      "<ipython-input-4-9198082d3d95>:16: UserWarning: `tf.layers.conv3d` is deprecated and will be removed in a future version. Please Use `tf.keras.layers.Conv3D` instead.\n",
      "  logits = conv3d(net,\n"
     ]
    },
    {
     "name": "stdout",
     "output_type": "stream",
     "text": [
      "INFO:tensorflow:Restoring parameters from model/model.ckpt-76152679\n"
     ]
    },
    {
     "ename": "FailedPreconditionError",
     "evalue": "Graph execution error:\n\nDetected at node 'conv6_a/bias/read' defined at (most recent call last):\n    File \"/usr/lib/python3.8/runpy.py\", line 194, in _run_module_as_main\n      return _run_code(code, main_globals, None,\n    File \"/usr/lib/python3.8/runpy.py\", line 87, in _run_code\n      exec(code, run_globals)\n    File \"/usr/local/lib/python3.8/dist-packages/ipykernel_launcher.py\", line 16, in <module>\n      app.launch_new_instance()\n    File \"/usr/local/lib/python3.8/dist-packages/traitlets/config/application.py\", line 982, in launch_instance\n      app.start()\n    File \"/usr/local/lib/python3.8/dist-packages/ipykernel/kernelapp.py\", line 505, in start\n      self.io_loop.start()\n    File \"/usr/local/lib/python3.8/dist-packages/tornado/platform/asyncio.py\", line 215, in start\n      self.asyncio_loop.run_forever()\n    File \"/usr/lib/python3.8/asyncio/base_events.py\", line 570, in run_forever\n      self._run_once()\n    File \"/usr/lib/python3.8/asyncio/base_events.py\", line 1859, in _run_once\n      handle._run()\n    File \"/usr/lib/python3.8/asyncio/events.py\", line 81, in _run\n      self._context.run(self._callback, *self._args)\n    File \"/usr/local/lib/python3.8/dist-packages/tornado/ioloop.py\", line 687, in <lambda>\n      lambda f: self._run_callback(functools.partial(callback, future))\n    File \"/usr/local/lib/python3.8/dist-packages/tornado/ioloop.py\", line 740, in _run_callback\n      ret = callback()\n    File \"/usr/local/lib/python3.8/dist-packages/tornado/gen.py\", line 821, in inner\n      self.ctx_run(self.run)\n    File \"/usr/local/lib/python3.8/dist-packages/tornado/gen.py\", line 782, in run\n      yielded = self.gen.send(value)\n    File \"/usr/local/lib/python3.8/dist-packages/ipykernel/kernelbase.py\", line 378, in dispatch_queue\n      yield self.process_one()\n    File \"/usr/local/lib/python3.8/dist-packages/tornado/gen.py\", line 250, in wrapper\n      runner = Runner(ctx_run, result, future, yielded)\n    File \"/usr/local/lib/python3.8/dist-packages/tornado/gen.py\", line 748, in __init__\n      self.ctx_run(self.run)\n    File \"/usr/local/lib/python3.8/dist-packages/tornado/gen.py\", line 782, in run\n      yielded = self.gen.send(value)\n    File \"/usr/local/lib/python3.8/dist-packages/ipykernel/kernelbase.py\", line 365, in process_one\n      yield gen.maybe_future(dispatch(*args))\n    File \"/usr/local/lib/python3.8/dist-packages/tornado/gen.py\", line 234, in wrapper\n      yielded = ctx_run(next, result)\n    File \"/usr/local/lib/python3.8/dist-packages/ipykernel/kernelbase.py\", line 272, in dispatch_shell\n      yield gen.maybe_future(handler(stream, idents, msg))\n    File \"/usr/local/lib/python3.8/dist-packages/tornado/gen.py\", line 234, in wrapper\n      yielded = ctx_run(next, result)\n    File \"/usr/local/lib/python3.8/dist-packages/ipykernel/kernelbase.py\", line 540, in execute_request\n      self.do_execute(\n    File \"/usr/local/lib/python3.8/dist-packages/tornado/gen.py\", line 234, in wrapper\n      yielded = ctx_run(next, result)\n    File \"/usr/local/lib/python3.8/dist-packages/ipykernel/ipkernel.py\", line 294, in do_execute\n      res = shell.run_cell(code, store_history=store_history, silent=silent)\n    File \"/usr/local/lib/python3.8/dist-packages/ipykernel/zmqshell.py\", line 536, in run_cell\n      return super(ZMQInteractiveShell, self).run_cell(*args, **kwargs)\n    File \"/usr/local/lib/python3.8/dist-packages/IPython/core/interactiveshell.py\", line 2940, in run_cell\n      result = self._run_cell(\n    File \"/usr/local/lib/python3.8/dist-packages/IPython/core/interactiveshell.py\", line 2995, in _run_cell\n      return runner(coro)\n    File \"/usr/local/lib/python3.8/dist-packages/IPython/core/async_helpers.py\", line 129, in _pseudo_sync_runner\n      coro.send(None)\n    File \"/usr/local/lib/python3.8/dist-packages/IPython/core/interactiveshell.py\", line 3194, in run_cell_async\n      has_raised = await self.run_ast_nodes(code_ast.body, cell_name,\n    File \"/usr/local/lib/python3.8/dist-packages/IPython/core/interactiveshell.py\", line 3373, in run_ast_nodes\n      if await self.run_code(code, result, async_=asy):\n    File \"/usr/local/lib/python3.8/dist-packages/IPython/core/interactiveshell.py\", line 3433, in run_code\n      exec(code_obj, self.user_global_ns, self.user_ns)\n    File \"<ipython-input-4-9198082d3d95>\", line 11, in <module>\n      net = conv(net, name='conv%d_a' % i, activation=relu,)\n    File \"/usr/local/lib/python3.8/dist-packages/keras/legacy_tf_layers/convolutional.py\", line 887, in conv3d\n      return layer(inputs)\n    File \"/usr/local/lib/python3.8/dist-packages/keras/legacy_tf_layers/base.py\", line 622, in __call__\n      outputs = super().__call__(inputs, *args, **kwargs)\n    File \"/usr/local/lib/python3.8/dist-packages/keras/engine/base_layer_v1.py\", line 814, in __call__\n      self._maybe_build(inputs)\n    File \"/usr/local/lib/python3.8/dist-packages/keras/engine/base_layer_v1.py\", line 2182, in _maybe_build\n      self.build(input_shapes)\n    File \"/usr/local/lib/python3.8/dist-packages/keras/layers/convolutional/base_conv.py\", line 230, in build\n      self.bias = self.add_weight(\n    File \"/usr/local/lib/python3.8/dist-packages/keras/legacy_tf_layers/base.py\", line 488, in add_weight\n      variable = super().add_weight(\n    File \"/usr/local/lib/python3.8/dist-packages/keras/engine/base_layer_v1.py\", line 459, in add_weight\n      variable = self._add_variable_with_custom_getter(\nNode: 'conv6_a/bias/read'\nAttempting to use uninitialized value conv6_a/bias\n\t [[{{node conv6_a/bias/read}}]]\n\nOriginal stack trace for 'conv6_a/bias/read':\n  File \"/usr/lib/python3.8/runpy.py\", line 194, in _run_module_as_main\n    return _run_code(code, main_globals, None,\n  File \"/usr/lib/python3.8/runpy.py\", line 87, in _run_code\n    exec(code, run_globals)\n  File \"/usr/local/lib/python3.8/dist-packages/ipykernel_launcher.py\", line 16, in <module>\n    app.launch_new_instance()\n  File \"/usr/local/lib/python3.8/dist-packages/traitlets/config/application.py\", line 982, in launch_instance\n    app.start()\n  File \"/usr/local/lib/python3.8/dist-packages/ipykernel/kernelapp.py\", line 505, in start\n    self.io_loop.start()\n  File \"/usr/local/lib/python3.8/dist-packages/tornado/platform/asyncio.py\", line 215, in start\n    self.asyncio_loop.run_forever()\n  File \"/usr/lib/python3.8/asyncio/base_events.py\", line 570, in run_forever\n    self._run_once()\n  File \"/usr/lib/python3.8/asyncio/base_events.py\", line 1859, in _run_once\n    handle._run()\n  File \"/usr/lib/python3.8/asyncio/events.py\", line 81, in _run\n    self._context.run(self._callback, *self._args)\n  File \"/usr/local/lib/python3.8/dist-packages/tornado/ioloop.py\", line 687, in <lambda>\n    lambda f: self._run_callback(functools.partial(callback, future))\n  File \"/usr/local/lib/python3.8/dist-packages/tornado/ioloop.py\", line 740, in _run_callback\n    ret = callback()\n  File \"/usr/local/lib/python3.8/dist-packages/tornado/gen.py\", line 821, in inner\n    self.ctx_run(self.run)\n  File \"/usr/local/lib/python3.8/dist-packages/tornado/gen.py\", line 782, in run\n    yielded = self.gen.send(value)\n  File \"/usr/local/lib/python3.8/dist-packages/ipykernel/kernelbase.py\", line 378, in dispatch_queue\n    yield self.process_one()\n  File \"/usr/local/lib/python3.8/dist-packages/tornado/gen.py\", line 250, in wrapper\n    runner = Runner(ctx_run, result, future, yielded)\n  File \"/usr/local/lib/python3.8/dist-packages/tornado/gen.py\", line 748, in __init__\n    self.ctx_run(self.run)\n  File \"/usr/local/lib/python3.8/dist-packages/tornado/gen.py\", line 782, in run\n    yielded = self.gen.send(value)\n  File \"/usr/local/lib/python3.8/dist-packages/ipykernel/kernelbase.py\", line 365, in process_one\n    yield gen.maybe_future(dispatch(*args))\n  File \"/usr/local/lib/python3.8/dist-packages/tornado/gen.py\", line 234, in wrapper\n    yielded = ctx_run(next, result)\n  File \"/usr/local/lib/python3.8/dist-packages/ipykernel/kernelbase.py\", line 272, in dispatch_shell\n    yield gen.maybe_future(handler(stream, idents, msg))\n  File \"/usr/local/lib/python3.8/dist-packages/tornado/gen.py\", line 234, in wrapper\n    yielded = ctx_run(next, result)\n  File \"/usr/local/lib/python3.8/dist-packages/ipykernel/kernelbase.py\", line 540, in execute_request\n    self.do_execute(\n  File \"/usr/local/lib/python3.8/dist-packages/tornado/gen.py\", line 234, in wrapper\n    yielded = ctx_run(next, result)\n  File \"/usr/local/lib/python3.8/dist-packages/ipykernel/ipkernel.py\", line 294, in do_execute\n    res = shell.run_cell(code, store_history=store_history, silent=silent)\n  File \"/usr/local/lib/python3.8/dist-packages/ipykernel/zmqshell.py\", line 536, in run_cell\n    return super(ZMQInteractiveShell, self).run_cell(*args, **kwargs)\n  File \"/usr/local/lib/python3.8/dist-packages/IPython/core/interactiveshell.py\", line 2940, in run_cell\n    result = self._run_cell(\n  File \"/usr/local/lib/python3.8/dist-packages/IPython/core/interactiveshell.py\", line 2995, in _run_cell\n    return runner(coro)\n  File \"/usr/local/lib/python3.8/dist-packages/IPython/core/async_helpers.py\", line 129, in _pseudo_sync_runner\n    coro.send(None)\n  File \"/usr/local/lib/python3.8/dist-packages/IPython/core/interactiveshell.py\", line 3194, in run_cell_async\n    has_raised = await self.run_ast_nodes(code_ast.body, cell_name,\n  File \"/usr/local/lib/python3.8/dist-packages/IPython/core/interactiveshell.py\", line 3373, in run_ast_nodes\n    if await self.run_code(code, result, async_=asy):\n  File \"/usr/local/lib/python3.8/dist-packages/IPython/core/interactiveshell.py\", line 3433, in run_code\n    exec(code_obj, self.user_global_ns, self.user_ns)\n  File \"<ipython-input-4-9198082d3d95>\", line 11, in <module>\n    net = conv(net, name='conv%d_a' % i, activation=relu,)\n  File \"/usr/local/lib/python3.8/dist-packages/keras/legacy_tf_layers/convolutional.py\", line 887, in conv3d\n    return layer(inputs)\n  File \"/usr/local/lib/python3.8/dist-packages/keras/legacy_tf_layers/base.py\", line 622, in __call__\n    outputs = super().__call__(inputs, *args, **kwargs)\n  File \"/usr/local/lib/python3.8/dist-packages/keras/engine/base_layer_v1.py\", line 814, in __call__\n    self._maybe_build(inputs)\n  File \"/usr/local/lib/python3.8/dist-packages/keras/engine/base_layer_v1.py\", line 2182, in _maybe_build\n    self.build(input_shapes)\n  File \"/usr/local/lib/python3.8/dist-packages/keras/layers/convolutional/base_conv.py\", line 230, in build\n    self.bias = self.add_weight(\n  File \"/usr/local/lib/python3.8/dist-packages/keras/legacy_tf_layers/base.py\", line 488, in add_weight\n    variable = super().add_weight(\n  File \"/usr/local/lib/python3.8/dist-packages/keras/engine/base_layer_v1.py\", line 459, in add_weight\n    variable = self._add_variable_with_custom_getter(\n  File \"/usr/local/lib/python3.8/dist-packages/tensorflow/python/trackable/base.py\", line 489, in _add_variable_with_custom_getter\n    new_variable = getter(\n  File \"/usr/local/lib/python3.8/dist-packages/tensorflow/python/ops/variable_scope.py\", line 1616, in get_variable\n    return get_variable_scope().get_variable(\n  File \"/usr/local/lib/python3.8/dist-packages/tensorflow/python/ops/variable_scope.py\", line 1326, in get_variable\n    return var_store.get_variable(\n  File \"/usr/local/lib/python3.8/dist-packages/tensorflow/python/ops/variable_scope.py\", line 582, in get_variable\n    return _true_getter(\n  File \"/usr/local/lib/python3.8/dist-packages/tensorflow/python/ops/variable_scope.py\", line 535, in _true_getter\n    return self._get_single_variable(\n  File \"/usr/local/lib/python3.8/dist-packages/tensorflow/python/ops/variable_scope.py\", line 956, in _get_single_variable\n    v = variables.VariableV1(\n  File \"/usr/local/lib/python3.8/dist-packages/tensorflow/python/util/traceback_utils.py\", line 150, in error_handler\n    return fn(*args, **kwargs)\n  File \"/usr/local/lib/python3.8/dist-packages/tensorflow/python/ops/variables.py\", line 269, in __call__\n    return cls._variable_v1_call(*args, **kwargs)\n  File \"/usr/local/lib/python3.8/dist-packages/tensorflow/python/ops/variables.py\", line 210, in _variable_v1_call\n    return previous_getter(\n  File \"/usr/local/lib/python3.8/dist-packages/tensorflow/python/ops/variables.py\", line 203, in <lambda>\n    previous_getter = lambda **kwargs: default_variable_creator(None, **kwargs)\n  File \"/usr/local/lib/python3.8/dist-packages/tensorflow/python/ops/variable_scope.py\", line 2722, in default_variable_creator\n    return variables.RefVariable(\n  File \"/usr/local/lib/python3.8/dist-packages/tensorflow/python/util/traceback_utils.py\", line 150, in error_handler\n    return fn(*args, **kwargs)\n  File \"/usr/local/lib/python3.8/dist-packages/tensorflow/python/ops/variables.py\", line 273, in __call__\n    return super(VariableMetaclass, cls).__call__(*args, **kwargs)\n  File \"/usr/local/lib/python3.8/dist-packages/tensorflow/python/ops/variables.py\", line 1663, in __init__\n    self._init_from_args(\n  File \"/usr/local/lib/python3.8/dist-packages/tensorflow/python/ops/variables.py\", line 1870, in _init_from_args\n    self._snapshot = array_ops.identity(self._variable, name=\"read\")\n  File \"/usr/local/lib/python3.8/dist-packages/tensorflow/python/util/traceback_utils.py\", line 150, in error_handler\n    return fn(*args, **kwargs)\n  File \"/usr/local/lib/python3.8/dist-packages/tensorflow/python/util/dispatch.py\", line 1176, in op_dispatch_handler\n    return dispatch_target(*args, **kwargs)\n  File \"/usr/local/lib/python3.8/dist-packages/tensorflow/python/ops/array_ops.py\", line 294, in identity\n    ret = gen_array_ops.identity(input, name=name)\n  File \"/usr/local/lib/python3.8/dist-packages/tensorflow/python/ops/gen_array_ops.py\", line 4082, in identity\n    _, _, _op, _outputs = _op_def_library._apply_op_helper(\n  File \"/usr/local/lib/python3.8/dist-packages/tensorflow/python/framework/op_def_library.py\", line 795, in _apply_op_helper\n    op = g._create_op_internal(op_type_name, inputs, dtypes=None,\n  File \"/usr/local/lib/python3.8/dist-packages/tensorflow/python/framework/ops.py\", line 3798, in _create_op_internal\n    ret = Operation(\n",
     "output_type": "error",
     "traceback": [
      "\u001b[0;31m---------------------------------------------------------------------------\u001b[0m",
      "\u001b[0;31mFailedPreconditionError\u001b[0m                   Traceback (most recent call last)",
      "File \u001b[0;32m/usr/local/lib/python3.8/dist-packages/tensorflow/python/client/session.py:1378\u001b[0m, in \u001b[0;36mBaseSession._do_call\u001b[0;34m(self, fn, *args)\u001b[0m\n\u001b[1;32m   1377\u001b[0m \u001b[38;5;28;01mtry\u001b[39;00m:\n\u001b[0;32m-> 1378\u001b[0m   \u001b[38;5;28;01mreturn\u001b[39;00m \u001b[43mfn\u001b[49m\u001b[43m(\u001b[49m\u001b[38;5;241;43m*\u001b[39;49m\u001b[43margs\u001b[49m\u001b[43m)\u001b[49m\n\u001b[1;32m   1379\u001b[0m \u001b[38;5;28;01mexcept\u001b[39;00m errors\u001b[38;5;241m.\u001b[39mOpError \u001b[38;5;28;01mas\u001b[39;00m e:\n",
      "File \u001b[0;32m/usr/local/lib/python3.8/dist-packages/tensorflow/python/client/session.py:1361\u001b[0m, in \u001b[0;36mBaseSession._do_run.<locals>._run_fn\u001b[0;34m(feed_dict, fetch_list, target_list, options, run_metadata)\u001b[0m\n\u001b[1;32m   1360\u001b[0m \u001b[38;5;28mself\u001b[39m\u001b[38;5;241m.\u001b[39m_extend_graph()\n\u001b[0;32m-> 1361\u001b[0m \u001b[38;5;28;01mreturn\u001b[39;00m \u001b[38;5;28;43mself\u001b[39;49m\u001b[38;5;241;43m.\u001b[39;49m\u001b[43m_call_tf_sessionrun\u001b[49m\u001b[43m(\u001b[49m\u001b[43moptions\u001b[49m\u001b[43m,\u001b[49m\u001b[43m \u001b[49m\u001b[43mfeed_dict\u001b[49m\u001b[43m,\u001b[49m\u001b[43m \u001b[49m\u001b[43mfetch_list\u001b[49m\u001b[43m,\u001b[49m\n\u001b[1;32m   1362\u001b[0m \u001b[43m                                \u001b[49m\u001b[43mtarget_list\u001b[49m\u001b[43m,\u001b[49m\u001b[43m \u001b[49m\u001b[43mrun_metadata\u001b[49m\u001b[43m)\u001b[49m\n",
      "File \u001b[0;32m/usr/local/lib/python3.8/dist-packages/tensorflow/python/client/session.py:1454\u001b[0m, in \u001b[0;36mBaseSession._call_tf_sessionrun\u001b[0;34m(self, options, feed_dict, fetch_list, target_list, run_metadata)\u001b[0m\n\u001b[1;32m   1452\u001b[0m \u001b[38;5;28;01mdef\u001b[39;00m \u001b[38;5;21m_call_tf_sessionrun\u001b[39m(\u001b[38;5;28mself\u001b[39m, options, feed_dict, fetch_list, target_list,\n\u001b[1;32m   1453\u001b[0m                         run_metadata):\n\u001b[0;32m-> 1454\u001b[0m   \u001b[38;5;28;01mreturn\u001b[39;00m \u001b[43mtf_session\u001b[49m\u001b[38;5;241;43m.\u001b[39;49m\u001b[43mTF_SessionRun_wrapper\u001b[49m\u001b[43m(\u001b[49m\u001b[38;5;28;43mself\u001b[39;49m\u001b[38;5;241;43m.\u001b[39;49m\u001b[43m_session\u001b[49m\u001b[43m,\u001b[49m\u001b[43m \u001b[49m\u001b[43moptions\u001b[49m\u001b[43m,\u001b[49m\u001b[43m \u001b[49m\u001b[43mfeed_dict\u001b[49m\u001b[43m,\u001b[49m\n\u001b[1;32m   1455\u001b[0m \u001b[43m                                          \u001b[49m\u001b[43mfetch_list\u001b[49m\u001b[43m,\u001b[49m\u001b[43m \u001b[49m\u001b[43mtarget_list\u001b[49m\u001b[43m,\u001b[49m\n\u001b[1;32m   1456\u001b[0m \u001b[43m                                          \u001b[49m\u001b[43mrun_metadata\u001b[49m\u001b[43m)\u001b[49m\n",
      "\u001b[0;31mFailedPreconditionError\u001b[0m: Attempting to use uninitialized value conv6_a/bias\n\t [[{{node conv6_a/bias/read}}]]",
      "\nDuring handling of the above exception, another exception occurred:\n",
      "\u001b[0;31mFailedPreconditionError\u001b[0m                   Traceback (most recent call last)",
      "Cell \u001b[0;32mIn [4], line 28\u001b[0m\n\u001b[1;32m     26\u001b[0m test_img \u001b[38;5;241m=\u001b[39m np\u001b[38;5;241m.\u001b[39mndarray(shape\u001b[38;5;241m=\u001b[39m(\u001b[38;5;241m1\u001b[39m, \u001b[38;5;241m150\u001b[39m, \u001b[38;5;241m300\u001b[39m, \u001b[38;5;241m300\u001b[39m, \u001b[38;5;241m1\u001b[39m), dtype\u001b[38;5;241m=\u001b[39mnp\u001b[38;5;241m.\u001b[39mfloat32)\n\u001b[1;32m     27\u001b[0m feed_dict \u001b[38;5;241m=\u001b[39m {patches: test_img}\n\u001b[0;32m---> 28\u001b[0m result \u001b[38;5;241m=\u001b[39m \u001b[43msess\u001b[49m\u001b[38;5;241;43m.\u001b[39;49m\u001b[43mrun\u001b[49m\u001b[43m(\u001b[49m\u001b[43mlogits\u001b[49m\u001b[43m,\u001b[49m\u001b[43m \u001b[49m\u001b[43mfeed_dict\u001b[49m\u001b[43m)\u001b[49m\n\u001b[1;32m     29\u001b[0m \u001b[38;5;28mprint\u001b[39m(result)\n",
      "File \u001b[0;32m/usr/local/lib/python3.8/dist-packages/tensorflow/python/client/session.py:968\u001b[0m, in \u001b[0;36mBaseSession.run\u001b[0;34m(self, fetches, feed_dict, options, run_metadata)\u001b[0m\n\u001b[1;32m    965\u001b[0m run_metadata_ptr \u001b[38;5;241m=\u001b[39m tf_session\u001b[38;5;241m.\u001b[39mTF_NewBuffer() \u001b[38;5;28;01mif\u001b[39;00m run_metadata \u001b[38;5;28;01melse\u001b[39;00m \u001b[38;5;28;01mNone\u001b[39;00m\n\u001b[1;32m    967\u001b[0m \u001b[38;5;28;01mtry\u001b[39;00m:\n\u001b[0;32m--> 968\u001b[0m   result \u001b[38;5;241m=\u001b[39m \u001b[38;5;28;43mself\u001b[39;49m\u001b[38;5;241;43m.\u001b[39;49m\u001b[43m_run\u001b[49m\u001b[43m(\u001b[49m\u001b[38;5;28;43;01mNone\u001b[39;49;00m\u001b[43m,\u001b[49m\u001b[43m \u001b[49m\u001b[43mfetches\u001b[49m\u001b[43m,\u001b[49m\u001b[43m \u001b[49m\u001b[43mfeed_dict\u001b[49m\u001b[43m,\u001b[49m\u001b[43m \u001b[49m\u001b[43moptions_ptr\u001b[49m\u001b[43m,\u001b[49m\n\u001b[1;32m    969\u001b[0m \u001b[43m                     \u001b[49m\u001b[43mrun_metadata_ptr\u001b[49m\u001b[43m)\u001b[49m\n\u001b[1;32m    970\u001b[0m   \u001b[38;5;28;01mif\u001b[39;00m run_metadata:\n\u001b[1;32m    971\u001b[0m     proto_data \u001b[38;5;241m=\u001b[39m tf_session\u001b[38;5;241m.\u001b[39mTF_GetBuffer(run_metadata_ptr)\n",
      "File \u001b[0;32m/usr/local/lib/python3.8/dist-packages/tensorflow/python/client/session.py:1191\u001b[0m, in \u001b[0;36mBaseSession._run\u001b[0;34m(self, handle, fetches, feed_dict, options, run_metadata)\u001b[0m\n\u001b[1;32m   1188\u001b[0m \u001b[38;5;66;03m# We only want to really perform the run if fetches or targets are provided,\u001b[39;00m\n\u001b[1;32m   1189\u001b[0m \u001b[38;5;66;03m# or if the call is a partial run that specifies feeds.\u001b[39;00m\n\u001b[1;32m   1190\u001b[0m \u001b[38;5;28;01mif\u001b[39;00m final_fetches \u001b[38;5;129;01mor\u001b[39;00m final_targets \u001b[38;5;129;01mor\u001b[39;00m (handle \u001b[38;5;129;01mand\u001b[39;00m feed_dict_tensor):\n\u001b[0;32m-> 1191\u001b[0m   results \u001b[38;5;241m=\u001b[39m \u001b[38;5;28;43mself\u001b[39;49m\u001b[38;5;241;43m.\u001b[39;49m\u001b[43m_do_run\u001b[49m\u001b[43m(\u001b[49m\u001b[43mhandle\u001b[49m\u001b[43m,\u001b[49m\u001b[43m \u001b[49m\u001b[43mfinal_targets\u001b[49m\u001b[43m,\u001b[49m\u001b[43m \u001b[49m\u001b[43mfinal_fetches\u001b[49m\u001b[43m,\u001b[49m\n\u001b[1;32m   1192\u001b[0m \u001b[43m                         \u001b[49m\u001b[43mfeed_dict_tensor\u001b[49m\u001b[43m,\u001b[49m\u001b[43m \u001b[49m\u001b[43moptions\u001b[49m\u001b[43m,\u001b[49m\u001b[43m \u001b[49m\u001b[43mrun_metadata\u001b[49m\u001b[43m)\u001b[49m\n\u001b[1;32m   1193\u001b[0m \u001b[38;5;28;01melse\u001b[39;00m:\n\u001b[1;32m   1194\u001b[0m   results \u001b[38;5;241m=\u001b[39m []\n",
      "File \u001b[0;32m/usr/local/lib/python3.8/dist-packages/tensorflow/python/client/session.py:1371\u001b[0m, in \u001b[0;36mBaseSession._do_run\u001b[0;34m(self, handle, target_list, fetch_list, feed_dict, options, run_metadata)\u001b[0m\n\u001b[1;32m   1368\u001b[0m   \u001b[38;5;28;01mreturn\u001b[39;00m \u001b[38;5;28mself\u001b[39m\u001b[38;5;241m.\u001b[39m_call_tf_sessionprun(handle, feed_dict, fetch_list)\n\u001b[1;32m   1370\u001b[0m \u001b[38;5;28;01mif\u001b[39;00m handle \u001b[38;5;129;01mis\u001b[39;00m \u001b[38;5;28;01mNone\u001b[39;00m:\n\u001b[0;32m-> 1371\u001b[0m   \u001b[38;5;28;01mreturn\u001b[39;00m \u001b[38;5;28;43mself\u001b[39;49m\u001b[38;5;241;43m.\u001b[39;49m\u001b[43m_do_call\u001b[49m\u001b[43m(\u001b[49m\u001b[43m_run_fn\u001b[49m\u001b[43m,\u001b[49m\u001b[43m \u001b[49m\u001b[43mfeeds\u001b[49m\u001b[43m,\u001b[49m\u001b[43m \u001b[49m\u001b[43mfetches\u001b[49m\u001b[43m,\u001b[49m\u001b[43m \u001b[49m\u001b[43mtargets\u001b[49m\u001b[43m,\u001b[49m\u001b[43m \u001b[49m\u001b[43moptions\u001b[49m\u001b[43m,\u001b[49m\n\u001b[1;32m   1372\u001b[0m \u001b[43m                       \u001b[49m\u001b[43mrun_metadata\u001b[49m\u001b[43m)\u001b[49m\n\u001b[1;32m   1373\u001b[0m \u001b[38;5;28;01melse\u001b[39;00m:\n\u001b[1;32m   1374\u001b[0m   \u001b[38;5;28;01mreturn\u001b[39;00m \u001b[38;5;28mself\u001b[39m\u001b[38;5;241m.\u001b[39m_do_call(_prun_fn, handle, feeds, fetches)\n",
      "File \u001b[0;32m/usr/local/lib/python3.8/dist-packages/tensorflow/python/client/session.py:1397\u001b[0m, in \u001b[0;36mBaseSession._do_call\u001b[0;34m(self, fn, *args)\u001b[0m\n\u001b[1;32m   1392\u001b[0m \u001b[38;5;28;01mif\u001b[39;00m \u001b[38;5;124m'\u001b[39m\u001b[38;5;124monly supports NHWC tensor format\u001b[39m\u001b[38;5;124m'\u001b[39m \u001b[38;5;129;01min\u001b[39;00m message:\n\u001b[1;32m   1393\u001b[0m   message \u001b[38;5;241m+\u001b[39m\u001b[38;5;241m=\u001b[39m (\u001b[38;5;124m'\u001b[39m\u001b[38;5;130;01m\\n\u001b[39;00m\u001b[38;5;124mA possible workaround: Try disabling Grappler optimizer\u001b[39m\u001b[38;5;124m'\u001b[39m\n\u001b[1;32m   1394\u001b[0m               \u001b[38;5;124m'\u001b[39m\u001b[38;5;130;01m\\n\u001b[39;00m\u001b[38;5;124mby modifying the config for creating the session eg.\u001b[39m\u001b[38;5;124m'\u001b[39m\n\u001b[1;32m   1395\u001b[0m               \u001b[38;5;124m'\u001b[39m\u001b[38;5;130;01m\\n\u001b[39;00m\u001b[38;5;124msession_config.graph_options.rewrite_options.\u001b[39m\u001b[38;5;124m'\u001b[39m\n\u001b[1;32m   1396\u001b[0m               \u001b[38;5;124m'\u001b[39m\u001b[38;5;124mdisable_meta_optimizer = True\u001b[39m\u001b[38;5;124m'\u001b[39m)\n\u001b[0;32m-> 1397\u001b[0m \u001b[38;5;28;01mraise\u001b[39;00m \u001b[38;5;28mtype\u001b[39m(e)(node_def, op, message)\n",
      "\u001b[0;31mFailedPreconditionError\u001b[0m: Graph execution error:\n\nDetected at node 'conv6_a/bias/read' defined at (most recent call last):\n    File \"/usr/lib/python3.8/runpy.py\", line 194, in _run_module_as_main\n      return _run_code(code, main_globals, None,\n    File \"/usr/lib/python3.8/runpy.py\", line 87, in _run_code\n      exec(code, run_globals)\n    File \"/usr/local/lib/python3.8/dist-packages/ipykernel_launcher.py\", line 16, in <module>\n      app.launch_new_instance()\n    File \"/usr/local/lib/python3.8/dist-packages/traitlets/config/application.py\", line 982, in launch_instance\n      app.start()\n    File \"/usr/local/lib/python3.8/dist-packages/ipykernel/kernelapp.py\", line 505, in start\n      self.io_loop.start()\n    File \"/usr/local/lib/python3.8/dist-packages/tornado/platform/asyncio.py\", line 215, in start\n      self.asyncio_loop.run_forever()\n    File \"/usr/lib/python3.8/asyncio/base_events.py\", line 570, in run_forever\n      self._run_once()\n    File \"/usr/lib/python3.8/asyncio/base_events.py\", line 1859, in _run_once\n      handle._run()\n    File \"/usr/lib/python3.8/asyncio/events.py\", line 81, in _run\n      self._context.run(self._callback, *self._args)\n    File \"/usr/local/lib/python3.8/dist-packages/tornado/ioloop.py\", line 687, in <lambda>\n      lambda f: self._run_callback(functools.partial(callback, future))\n    File \"/usr/local/lib/python3.8/dist-packages/tornado/ioloop.py\", line 740, in _run_callback\n      ret = callback()\n    File \"/usr/local/lib/python3.8/dist-packages/tornado/gen.py\", line 821, in inner\n      self.ctx_run(self.run)\n    File \"/usr/local/lib/python3.8/dist-packages/tornado/gen.py\", line 782, in run\n      yielded = self.gen.send(value)\n    File \"/usr/local/lib/python3.8/dist-packages/ipykernel/kernelbase.py\", line 378, in dispatch_queue\n      yield self.process_one()\n    File \"/usr/local/lib/python3.8/dist-packages/tornado/gen.py\", line 250, in wrapper\n      runner = Runner(ctx_run, result, future, yielded)\n    File \"/usr/local/lib/python3.8/dist-packages/tornado/gen.py\", line 748, in __init__\n      self.ctx_run(self.run)\n    File \"/usr/local/lib/python3.8/dist-packages/tornado/gen.py\", line 782, in run\n      yielded = self.gen.send(value)\n    File \"/usr/local/lib/python3.8/dist-packages/ipykernel/kernelbase.py\", line 365, in process_one\n      yield gen.maybe_future(dispatch(*args))\n    File \"/usr/local/lib/python3.8/dist-packages/tornado/gen.py\", line 234, in wrapper\n      yielded = ctx_run(next, result)\n    File \"/usr/local/lib/python3.8/dist-packages/ipykernel/kernelbase.py\", line 272, in dispatch_shell\n      yield gen.maybe_future(handler(stream, idents, msg))\n    File \"/usr/local/lib/python3.8/dist-packages/tornado/gen.py\", line 234, in wrapper\n      yielded = ctx_run(next, result)\n    File \"/usr/local/lib/python3.8/dist-packages/ipykernel/kernelbase.py\", line 540, in execute_request\n      self.do_execute(\n    File \"/usr/local/lib/python3.8/dist-packages/tornado/gen.py\", line 234, in wrapper\n      yielded = ctx_run(next, result)\n    File \"/usr/local/lib/python3.8/dist-packages/ipykernel/ipkernel.py\", line 294, in do_execute\n      res = shell.run_cell(code, store_history=store_history, silent=silent)\n    File \"/usr/local/lib/python3.8/dist-packages/ipykernel/zmqshell.py\", line 536, in run_cell\n      return super(ZMQInteractiveShell, self).run_cell(*args, **kwargs)\n    File \"/usr/local/lib/python3.8/dist-packages/IPython/core/interactiveshell.py\", line 2940, in run_cell\n      result = self._run_cell(\n    File \"/usr/local/lib/python3.8/dist-packages/IPython/core/interactiveshell.py\", line 2995, in _run_cell\n      return runner(coro)\n    File \"/usr/local/lib/python3.8/dist-packages/IPython/core/async_helpers.py\", line 129, in _pseudo_sync_runner\n      coro.send(None)\n    File \"/usr/local/lib/python3.8/dist-packages/IPython/core/interactiveshell.py\", line 3194, in run_cell_async\n      has_raised = await self.run_ast_nodes(code_ast.body, cell_name,\n    File \"/usr/local/lib/python3.8/dist-packages/IPython/core/interactiveshell.py\", line 3373, in run_ast_nodes\n      if await self.run_code(code, result, async_=asy):\n    File \"/usr/local/lib/python3.8/dist-packages/IPython/core/interactiveshell.py\", line 3433, in run_code\n      exec(code_obj, self.user_global_ns, self.user_ns)\n    File \"<ipython-input-4-9198082d3d95>\", line 11, in <module>\n      net = conv(net, name='conv%d_a' % i, activation=relu,)\n    File \"/usr/local/lib/python3.8/dist-packages/keras/legacy_tf_layers/convolutional.py\", line 887, in conv3d\n      return layer(inputs)\n    File \"/usr/local/lib/python3.8/dist-packages/keras/legacy_tf_layers/base.py\", line 622, in __call__\n      outputs = super().__call__(inputs, *args, **kwargs)\n    File \"/usr/local/lib/python3.8/dist-packages/keras/engine/base_layer_v1.py\", line 814, in __call__\n      self._maybe_build(inputs)\n    File \"/usr/local/lib/python3.8/dist-packages/keras/engine/base_layer_v1.py\", line 2182, in _maybe_build\n      self.build(input_shapes)\n    File \"/usr/local/lib/python3.8/dist-packages/keras/layers/convolutional/base_conv.py\", line 230, in build\n      self.bias = self.add_weight(\n    File \"/usr/local/lib/python3.8/dist-packages/keras/legacy_tf_layers/base.py\", line 488, in add_weight\n      variable = super().add_weight(\n    File \"/usr/local/lib/python3.8/dist-packages/keras/engine/base_layer_v1.py\", line 459, in add_weight\n      variable = self._add_variable_with_custom_getter(\nNode: 'conv6_a/bias/read'\nAttempting to use uninitialized value conv6_a/bias\n\t [[{{node conv6_a/bias/read}}]]\n\nOriginal stack trace for 'conv6_a/bias/read':\n  File \"/usr/lib/python3.8/runpy.py\", line 194, in _run_module_as_main\n    return _run_code(code, main_globals, None,\n  File \"/usr/lib/python3.8/runpy.py\", line 87, in _run_code\n    exec(code, run_globals)\n  File \"/usr/local/lib/python3.8/dist-packages/ipykernel_launcher.py\", line 16, in <module>\n    app.launch_new_instance()\n  File \"/usr/local/lib/python3.8/dist-packages/traitlets/config/application.py\", line 982, in launch_instance\n    app.start()\n  File \"/usr/local/lib/python3.8/dist-packages/ipykernel/kernelapp.py\", line 505, in start\n    self.io_loop.start()\n  File \"/usr/local/lib/python3.8/dist-packages/tornado/platform/asyncio.py\", line 215, in start\n    self.asyncio_loop.run_forever()\n  File \"/usr/lib/python3.8/asyncio/base_events.py\", line 570, in run_forever\n    self._run_once()\n  File \"/usr/lib/python3.8/asyncio/base_events.py\", line 1859, in _run_once\n    handle._run()\n  File \"/usr/lib/python3.8/asyncio/events.py\", line 81, in _run\n    self._context.run(self._callback, *self._args)\n  File \"/usr/local/lib/python3.8/dist-packages/tornado/ioloop.py\", line 687, in <lambda>\n    lambda f: self._run_callback(functools.partial(callback, future))\n  File \"/usr/local/lib/python3.8/dist-packages/tornado/ioloop.py\", line 740, in _run_callback\n    ret = callback()\n  File \"/usr/local/lib/python3.8/dist-packages/tornado/gen.py\", line 821, in inner\n    self.ctx_run(self.run)\n  File \"/usr/local/lib/python3.8/dist-packages/tornado/gen.py\", line 782, in run\n    yielded = self.gen.send(value)\n  File \"/usr/local/lib/python3.8/dist-packages/ipykernel/kernelbase.py\", line 378, in dispatch_queue\n    yield self.process_one()\n  File \"/usr/local/lib/python3.8/dist-packages/tornado/gen.py\", line 250, in wrapper\n    runner = Runner(ctx_run, result, future, yielded)\n  File \"/usr/local/lib/python3.8/dist-packages/tornado/gen.py\", line 748, in __init__\n    self.ctx_run(self.run)\n  File \"/usr/local/lib/python3.8/dist-packages/tornado/gen.py\", line 782, in run\n    yielded = self.gen.send(value)\n  File \"/usr/local/lib/python3.8/dist-packages/ipykernel/kernelbase.py\", line 365, in process_one\n    yield gen.maybe_future(dispatch(*args))\n  File \"/usr/local/lib/python3.8/dist-packages/tornado/gen.py\", line 234, in wrapper\n    yielded = ctx_run(next, result)\n  File \"/usr/local/lib/python3.8/dist-packages/ipykernel/kernelbase.py\", line 272, in dispatch_shell\n    yield gen.maybe_future(handler(stream, idents, msg))\n  File \"/usr/local/lib/python3.8/dist-packages/tornado/gen.py\", line 234, in wrapper\n    yielded = ctx_run(next, result)\n  File \"/usr/local/lib/python3.8/dist-packages/ipykernel/kernelbase.py\", line 540, in execute_request\n    self.do_execute(\n  File \"/usr/local/lib/python3.8/dist-packages/tornado/gen.py\", line 234, in wrapper\n    yielded = ctx_run(next, result)\n  File \"/usr/local/lib/python3.8/dist-packages/ipykernel/ipkernel.py\", line 294, in do_execute\n    res = shell.run_cell(code, store_history=store_history, silent=silent)\n  File \"/usr/local/lib/python3.8/dist-packages/ipykernel/zmqshell.py\", line 536, in run_cell\n    return super(ZMQInteractiveShell, self).run_cell(*args, **kwargs)\n  File \"/usr/local/lib/python3.8/dist-packages/IPython/core/interactiveshell.py\", line 2940, in run_cell\n    result = self._run_cell(\n  File \"/usr/local/lib/python3.8/dist-packages/IPython/core/interactiveshell.py\", line 2995, in _run_cell\n    return runner(coro)\n  File \"/usr/local/lib/python3.8/dist-packages/IPython/core/async_helpers.py\", line 129, in _pseudo_sync_runner\n    coro.send(None)\n  File \"/usr/local/lib/python3.8/dist-packages/IPython/core/interactiveshell.py\", line 3194, in run_cell_async\n    has_raised = await self.run_ast_nodes(code_ast.body, cell_name,\n  File \"/usr/local/lib/python3.8/dist-packages/IPython/core/interactiveshell.py\", line 3373, in run_ast_nodes\n    if await self.run_code(code, result, async_=asy):\n  File \"/usr/local/lib/python3.8/dist-packages/IPython/core/interactiveshell.py\", line 3433, in run_code\n    exec(code_obj, self.user_global_ns, self.user_ns)\n  File \"<ipython-input-4-9198082d3d95>\", line 11, in <module>\n    net = conv(net, name='conv%d_a' % i, activation=relu,)\n  File \"/usr/local/lib/python3.8/dist-packages/keras/legacy_tf_layers/convolutional.py\", line 887, in conv3d\n    return layer(inputs)\n  File \"/usr/local/lib/python3.8/dist-packages/keras/legacy_tf_layers/base.py\", line 622, in __call__\n    outputs = super().__call__(inputs, *args, **kwargs)\n  File \"/usr/local/lib/python3.8/dist-packages/keras/engine/base_layer_v1.py\", line 814, in __call__\n    self._maybe_build(inputs)\n  File \"/usr/local/lib/python3.8/dist-packages/keras/engine/base_layer_v1.py\", line 2182, in _maybe_build\n    self.build(input_shapes)\n  File \"/usr/local/lib/python3.8/dist-packages/keras/layers/convolutional/base_conv.py\", line 230, in build\n    self.bias = self.add_weight(\n  File \"/usr/local/lib/python3.8/dist-packages/keras/legacy_tf_layers/base.py\", line 488, in add_weight\n    variable = super().add_weight(\n  File \"/usr/local/lib/python3.8/dist-packages/keras/engine/base_layer_v1.py\", line 459, in add_weight\n    variable = self._add_variable_with_custom_getter(\n  File \"/usr/local/lib/python3.8/dist-packages/tensorflow/python/trackable/base.py\", line 489, in _add_variable_with_custom_getter\n    new_variable = getter(\n  File \"/usr/local/lib/python3.8/dist-packages/tensorflow/python/ops/variable_scope.py\", line 1616, in get_variable\n    return get_variable_scope().get_variable(\n  File \"/usr/local/lib/python3.8/dist-packages/tensorflow/python/ops/variable_scope.py\", line 1326, in get_variable\n    return var_store.get_variable(\n  File \"/usr/local/lib/python3.8/dist-packages/tensorflow/python/ops/variable_scope.py\", line 582, in get_variable\n    return _true_getter(\n  File \"/usr/local/lib/python3.8/dist-packages/tensorflow/python/ops/variable_scope.py\", line 535, in _true_getter\n    return self._get_single_variable(\n  File \"/usr/local/lib/python3.8/dist-packages/tensorflow/python/ops/variable_scope.py\", line 956, in _get_single_variable\n    v = variables.VariableV1(\n  File \"/usr/local/lib/python3.8/dist-packages/tensorflow/python/util/traceback_utils.py\", line 150, in error_handler\n    return fn(*args, **kwargs)\n  File \"/usr/local/lib/python3.8/dist-packages/tensorflow/python/ops/variables.py\", line 269, in __call__\n    return cls._variable_v1_call(*args, **kwargs)\n  File \"/usr/local/lib/python3.8/dist-packages/tensorflow/python/ops/variables.py\", line 210, in _variable_v1_call\n    return previous_getter(\n  File \"/usr/local/lib/python3.8/dist-packages/tensorflow/python/ops/variables.py\", line 203, in <lambda>\n    previous_getter = lambda **kwargs: default_variable_creator(None, **kwargs)\n  File \"/usr/local/lib/python3.8/dist-packages/tensorflow/python/ops/variable_scope.py\", line 2722, in default_variable_creator\n    return variables.RefVariable(\n  File \"/usr/local/lib/python3.8/dist-packages/tensorflow/python/util/traceback_utils.py\", line 150, in error_handler\n    return fn(*args, **kwargs)\n  File \"/usr/local/lib/python3.8/dist-packages/tensorflow/python/ops/variables.py\", line 273, in __call__\n    return super(VariableMetaclass, cls).__call__(*args, **kwargs)\n  File \"/usr/local/lib/python3.8/dist-packages/tensorflow/python/ops/variables.py\", line 1663, in __init__\n    self._init_from_args(\n  File \"/usr/local/lib/python3.8/dist-packages/tensorflow/python/ops/variables.py\", line 1870, in _init_from_args\n    self._snapshot = array_ops.identity(self._variable, name=\"read\")\n  File \"/usr/local/lib/python3.8/dist-packages/tensorflow/python/util/traceback_utils.py\", line 150, in error_handler\n    return fn(*args, **kwargs)\n  File \"/usr/local/lib/python3.8/dist-packages/tensorflow/python/util/dispatch.py\", line 1176, in op_dispatch_handler\n    return dispatch_target(*args, **kwargs)\n  File \"/usr/local/lib/python3.8/dist-packages/tensorflow/python/ops/array_ops.py\", line 294, in identity\n    ret = gen_array_ops.identity(input, name=name)\n  File \"/usr/local/lib/python3.8/dist-packages/tensorflow/python/ops/gen_array_ops.py\", line 4082, in identity\n    _, _, _op, _outputs = _op_def_library._apply_op_helper(\n  File \"/usr/local/lib/python3.8/dist-packages/tensorflow/python/framework/op_def_library.py\", line 795, in _apply_op_helper\n    op = g._create_op_internal(op_type_name, inputs, dtypes=None,\n  File \"/usr/local/lib/python3.8/dist-packages/tensorflow/python/framework/ops.py\", line 3798, in _create_op_internal\n    ret = Operation(\n"
     ]
    }
   ],
   "source": [
    "\n",
    "\n",
    "with tf.compat.v1.Session() as sess:\n",
    "    patches = tf.compat.v1.placeholder('float32', [None, 150, 300, 300, 1])\n",
    "\n",
    "    net = conv(patches, name='conv0_a', activation=relu)\n",
    "    net = conv(net, name='conv0_b', activation=None)\n",
    "\n",
    "    for i in range(1, depth-1):\n",
    "        with tf.name_scope('residual%d' % i):\n",
    "            in_net = net\n",
    "            net = relu(net)\n",
    "            net = conv(net, name='conv%d_a' % i, activation=relu,)\n",
    "            net = conv(net, name='conv%d_b' % i, activation=None)\n",
    "            net += in_net[:, 2:-2, 2:-2, 2:-2, :]\n",
    "\n",
    "    net = relu(net)\n",
    "    logits = conv3d(net, \n",
    "                    num_classes, \n",
    "                    (1, 1, 1), \n",
    "                    activation=None,\n",
    "                    name='conv_point')\n",
    "    \n",
    "    saver = tf.compat.v1.train.import_meta_graph(f\"{model_prefix}.meta\", clear_devices=True)\n",
    "    saver.restore(sess, model_prefix)\n",
    "    # saver.export_meta_graph(\"metagraph.txt\", as_text=True, clear_devices=True, clear_extraneous_savers=True)\n",
    "\n",
    "    test_img = np.ndarray(shape=(1, 150, 300, 300, 1), dtype=np.float32)\n",
    "    feed_dict = {patches: test_img}\n",
    "    result = sess.run(logits, feed_dict)\n",
    "    print(result)"
   ]
  },
  {
   "cell_type": "code",
   "execution_count": null,
   "metadata": {},
   "outputs": [],
   "source": []
  },
  {
   "cell_type": "code",
   "execution_count": null,
   "metadata": {},
   "outputs": [],
   "source": []
  },
  {
   "cell_type": "code",
   "execution_count": 5,
   "metadata": {},
   "outputs": [
    {
     "name": "stdout",
     "output_type": "stream",
     "text": [
      "tensor: class_labels/distribution (int64) [4]\n",
      "tensor: conv0_a/biases (float32) [32]\n",
      "tensor: conv0_a/weights (float32) [3, 3, 3, 1, 32]\n",
      "tensor: conv0_b/biases (float32) [32]\n",
      "tensor: conv0_b/weights (float32) [3, 3, 3, 32, 32]\n",
      "tensor: conv1_a/biases (float32) [32]\n",
      "tensor: conv1_a/weights (float32) [3, 3, 3, 32, 32]\n",
      "tensor: conv1_b/biases (float32) [32]\n",
      "tensor: conv1_b/weights (float32) [3, 3, 3, 32, 32]\n",
      "tensor: conv2_a/biases (float32) [32]\n",
      "tensor: conv2_a/weights (float32) [3, 3, 3, 32, 32]\n",
      "tensor: conv2_b/biases (float32) [32]\n",
      "tensor: conv2_b/weights (float32) [3, 3, 3, 32, 32]\n",
      "tensor: conv3_a/biases (float32) [32]\n",
      "tensor: conv3_a/weights (float32) [3, 3, 3, 32, 32]\n",
      "tensor: conv3_b/biases (float32) [32]\n",
      "tensor: conv3_b/weights (float32) [3, 3, 3, 32, 32]\n",
      "tensor: conv4_a/biases (float32) [32]\n",
      "tensor: conv4_a/weights (float32) [3, 3, 3, 32, 32]\n",
      "tensor: conv4_b/biases (float32) [32]\n",
      "tensor: conv4_b/weights (float32) [3, 3, 3, 32, 32]\n",
      "tensor: conv5_a/biases (float32) [32]\n",
      "tensor: conv5_a/weights (float32) [3, 3, 3, 32, 32]\n",
      "tensor: conv5_b/biases (float32) [32]\n",
      "tensor: conv5_b/weights (float32) [3, 3, 3, 32, 32]\n",
      "tensor: conv6_a/biases (float32) [32]\n",
      "tensor: conv6_a/weights (float32) [3, 3, 3, 32, 32]\n",
      "tensor: conv6_b/biases (float32) [32]\n",
      "tensor: conv6_b/weights (float32) [3, 3, 3, 32, 32]\n",
      "tensor: conv7_a/biases (float32) [32]\n",
      "tensor: conv7_a/weights (float32) [3, 3, 3, 32, 32]\n",
      "tensor: conv7_b/biases (float32) [32]\n",
      "tensor: conv7_b/weights (float32) [3, 3, 3, 32, 32]\n",
      "tensor: conv_point/biases (float32) [4]\n",
      "tensor: conv_point/weights (float32) [1, 1, 1, 32, 4]\n",
      "tensor: distribution (int64) [4]\n",
      "tensor: global_step (int64) []\n"
     ]
    }
   ],
   "source": [
    "from tensorflow.python.tools.inspect_checkpoint import print_tensors_in_checkpoint_file\n",
    "from tensorflow.python.training import py_checkpoint_reader\n",
    "\n",
    "reader = py_checkpoint_reader.NewCheckpointReader(model_prefix)\n",
    "var_to_shape_map = reader.get_variable_to_shape_map()\n",
    "var_to_dtype_map = reader.get_variable_to_dtype_map()\n",
    "for key, value in sorted(var_to_shape_map.items()):\n",
    "    print(\"tensor: %s (%s) %s\" % (key, var_to_dtype_map[key].name, value))\n",
    "    #print(reader.get_tensor(key))\n",
    "            \n",
    "\n",
    "#print_tensors_in_checkpoint_file(model_prefix, tensor_name='', all_tensors=True)\n",
    "#, tensor_name, all_tensors,\n",
    "#                                     all_tensor_names=False,\n",
    "#                                     count_exclude_pattern=\"\"):"
   ]
  },
  {
   "cell_type": "code",
   "execution_count": null,
   "metadata": {},
   "outputs": [],
   "source": []
  },
  {
   "cell_type": "code",
   "execution_count": null,
   "metadata": {},
   "outputs": [],
   "source": [
    "\n",
    "new_graph = tf.Graph() \n",
    "with tf.compat.v1.Session(graph=new_graph) as sess:\n",
    "    tf.compat.v1.get_default_graph()\n",
    "    saver = tf.compat.v1.train.import_meta_graph(f\"{model_prefix}.meta\")\n",
    "    # saver.restore(sess, model_prefix)\n",
    "    saver.export_meta_graph(\"metagraph.txt\", as_text=True, clear_devices=True, clear_extraneous_savers=True)"
   ]
  },
  {
   "cell_type": "code",
   "execution_count": null,
   "metadata": {},
   "outputs": [],
   "source": [
    "from google.protobuf import text_format\n",
    "text_proto = open(\"metagraph.txt\").read()\n",
    "\n",
    "message = text_format.Parse(text_proto, \n",
    "                            tf.compat.v1.MetaGraphDef())"
   ]
  }
 ],
 "metadata": {
  "kernelspec": {
   "display_name": "Python 3",
   "language": "python",
   "name": "python3"
  },
  "language_info": {
   "codemirror_mode": {
    "name": "ipython",
    "version": 3
   },
   "file_extension": ".py",
   "mimetype": "text/x-python",
   "name": "python",
   "nbconvert_exporter": "python",
   "pygments_lexer": "ipython3",
   "version": "3.8.10"
  }
 },
 "nbformat": 4,
 "nbformat_minor": 2
}
