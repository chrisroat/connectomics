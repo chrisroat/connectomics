{
 "cells": [
  {
   "cell_type": "code",
   "execution_count": 1,
   "metadata": {},
   "outputs": [],
   "source": [
    "import re\n",
    "\n",
    "import numpy as np\n",
    "import tensorstore as ts"
   ]
  },
  {
   "cell_type": "code",
   "execution_count": 2,
   "metadata": {},
   "outputs": [],
   "source": [
    "bucket = 'mpi-j0251-ae38dfb91896253ecdb1033161e29f75'\n",
    "image = 'j0251_72/raw_clahe/'\n",
    "segments = 'j0251_72_mito_sj_vc_gt_20220811/'\n",
    "size = (300, 300, 150)"
   ]
  },
  {
   "cell_type": "code",
   "execution_count": 3,
   "metadata": {},
   "outputs": [],
   "source": [
    "patt = re.compile(\"bounding_box { start { x: (\\d+) y: (\\d+) z: (\\d+) } size { x: (\\d+) y: (\\d+) z: (\\d+) } }\")\n",
    "boxes = []\n",
    "with open(\"bounding_box.txt\") as f:\n",
    "    for line in f:\n",
    "        match = re.match(patt, line)\n",
    "        coords = tuple(int(c) for c in match.groups())\n",
    "        assert coords[3:] == size\n",
    "        boxes.append(coords[:3])"
   ]
  },
  {
   "cell_type": "code",
   "execution_count": 4,
   "metadata": {},
   "outputs": [],
   "source": [
    "def open_ds(path):\n",
    "    dataset_future = ts.open({\n",
    "        'driver': 'neuroglancer_precomputed',\n",
    "        'kvstore': f'gs://{bucket}/{path}',\n",
    "        'context': { 'cache_pool': { 'total_bytes_limit': 100_000_000 } },                                                                                            \n",
    "        'recheck_cached_data': 'open',\n",
    "    })\n",
    "    return dataset_future.result()\n",
    "\n",
    "image_ds = open_ds(image)\n",
    "segments_ds = open_ds(segments)"
   ]
  },
  {
   "cell_type": "code",
   "execution_count": 13,
   "metadata": {},
   "outputs": [
    {
     "name": "stdout",
     "output_type": "stream",
     "text": [
      "0\n",
      "1\n",
      "2\n",
      "3\n",
      "4\n",
      "5\n",
      "6\n",
      "7\n",
      "8\n",
      "9\n",
      "10\n",
      "11\n",
      "12\n",
      "13\n",
      "14\n",
      "15\n",
      "16\n",
      "17\n",
      "18\n",
      "19\n",
      "20\n",
      "21\n",
      "22\n",
      "23\n",
      "24\n",
      "25\n",
      "26\n",
      "27\n",
      "28\n",
      "29\n",
      "30\n",
      "31\n",
      "32\n",
      "33\n",
      "34\n",
      "35\n",
      "36\n",
      "37\n",
      "38\n",
      "39\n",
      "40\n",
      "41\n",
      "42\n",
      "43\n",
      "44\n",
      "45\n",
      "46\n",
      "47\n",
      "48\n",
      "49\n",
      "50\n"
     ]
    }
   ],
   "source": [
    "for box_idx, box in enumerate(boxes):\n",
    "    print(box_idx)\n",
    "    slices = tuple(slice(b, b+e) for b,e in zip(box, size))\n",
    "    img = image_ds[slices].read().result()\n",
    "    seg = segments_ds[slices].read().result()\n",
    "    np.savez(f\"data/box_{box_idx:02}\", img=img, seg=seg)"
   ]
  },
  {
   "cell_type": "code",
   "execution_count": null,
   "metadata": {},
   "outputs": [],
   "source": []
  }
 ],
 "metadata": {
  "kernelspec": {
   "display_name": "Python 3",
   "language": "python",
   "name": "python3"
  },
  "language_info": {
   "codemirror_mode": {
    "name": "ipython",
    "version": 3
   },
   "file_extension": ".py",
   "mimetype": "text/x-python",
   "name": "python",
   "nbconvert_exporter": "python",
   "pygments_lexer": "ipython3",
   "version": "3.7.16"
  }
 },
 "nbformat": 4,
 "nbformat_minor": 4
}
